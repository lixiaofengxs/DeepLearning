{
 "cells": [
  {
   "cell_type": "markdown",
   "id": "82fdfdf4-9f73-4644-b092-6400e475f16d",
   "metadata": {},
   "source": [
    "# Build The Neural Network\n",
    "\n",
    "神经网络由对数据执行操作的层/模块组成。 \n",
    "\n",
    "torch.nn命名空间提供了构建您自己的神经网络所需的所有构建块。 PyTorch 中的每个模块都是nn.Module 的子类。\n",
    "\n",
    "神经网络本身就是一个模块，由其他模块（层）组成。这种嵌套结构允许轻松构建和管理复杂的架构。"
   ]
  },
  {
   "cell_type": "code",
   "execution_count": 1,
   "id": "6409a4bc-3854-465a-8e34-54401a3c1bd9",
   "metadata": {},
   "outputs": [],
   "source": [
    "import os\n",
    "import torch\n",
    "from torch import nn\n",
    "from torch.utils.data import DataLoader\n",
    "from torchvision import datasets, transforms"
   ]
  },
  {
   "cell_type": "markdown",
   "id": "f03fd62f-568d-4687-95f0-b69da7eb513d",
   "metadata": {},
   "source": [
    "## 获取训练设备\n",
    "检查一下torch.cuda或torch.backends.mps是否可用，否则我们使用 CPU。"
   ]
  },
  {
   "cell_type": "code",
   "execution_count": 2,
   "id": "34243331-9621-4236-bc09-daafb7abce6e",
   "metadata": {},
   "outputs": [
    {
     "name": "stdout",
     "output_type": "stream",
     "text": [
      "Using cpu device\n"
     ]
    }
   ],
   "source": [
    "device = (\n",
    "    \"cuda\"\n",
    "    if torch.cuda.is_available()\n",
    "    else \"mps\"\n",
    "    if torch.backends.mps.is_available()\n",
    "    else \"cpu\"\n",
    ")\n",
    "print(f\"Using {device} device\")"
   ]
  },
  {
   "cell_type": "markdown",
   "id": "30d09cd8-987b-4d36-b430-05c736709a2c",
   "metadata": {},
   "source": [
    "## 定义类\n",
    "\n",
    "通过子类化 nn.Module 来定义神经网络，并在 __init__ 中初始化神经网络层。每个 nn.Module 子类都实现了 forward 方法中对输入数据的操作。"
   ]
  },
  {
   "cell_type": "code",
   "execution_count": 3,
   "id": "2129e2a9-426c-4dd2-a621-0448cf6b0685",
   "metadata": {},
   "outputs": [],
   "source": [
    "class NeuralNetwork(nn.Module):\n",
    "    def __init__(self):\n",
    "        super().__init__()\n",
    "        self.flatten = nn.Flatten()\n",
    "        self.linear_relu_stack = nn.Sequential(\n",
    "            nn.Linear(28*28, 512),\n",
    "            nn.ReLU(),\n",
    "            nn.Linear(512, 512),\n",
    "            nn.ReLU(),\n",
    "            nn.Linear(512, 10),\n",
    "        )\n",
    "\n",
    "    def forward(self, x):\n",
    "        x = self.flatten(x)\n",
    "        logits = self.linear_relu_stack(x)\n",
    "        return logits"
   ]
  },
  {
   "cell_type": "code",
   "execution_count": 4,
   "id": "1fc36ea4-859f-49aa-b62b-fb5c86c902c1",
   "metadata": {},
   "outputs": [
    {
     "name": "stdout",
     "output_type": "stream",
     "text": [
      "NeuralNetwork(\n",
      "  (flatten): Flatten(start_dim=1, end_dim=-1)\n",
      "  (linear_relu_stack): Sequential(\n",
      "    (0): Linear(in_features=784, out_features=512, bias=True)\n",
      "    (1): ReLU()\n",
      "    (2): Linear(in_features=512, out_features=512, bias=True)\n",
      "    (3): ReLU()\n",
      "    (4): Linear(in_features=512, out_features=10, bias=True)\n",
      "  )\n",
      ")\n"
     ]
    }
   ],
   "source": [
    "# 创建一个NeuralNetwork实例，并将其移动到device上，并打印其结构。\n",
    "model = NeuralNetwork().to(device)\n",
    "print(model)"
   ]
  },
  {
   "cell_type": "code",
   "execution_count": 5,
   "id": "ae3c46af-18da-4410-97fa-8dd5e1a8746d",
   "metadata": {},
   "outputs": [
    {
     "name": "stdout",
     "output_type": "stream",
     "text": [
      "Predicted class: tensor([9])\n"
     ]
    }
   ],
   "source": [
    "# 为了使用该模型，我们将输入数据传递给它。这将执行模型的forward操作以及一些后台操作。不要直接调用model.forward() ！\n",
    "\n",
    "# 在输入上调用模型会返回一个二维张量，其中 dim=0 对应于每个类的 10 个原始预测值的每个输出，dim=1 对应于每个输出的各个值。\n",
    "# 我们通过将预测概率传递给nn.Softmax模块的实例来获得预测概率。\n",
    "X = torch.rand(1, 28, 28, device=device)\n",
    "logits = model(X)\n",
    "pred_probab = nn.Softmax(dim=1)(logits)\n",
    "y_pred = pred_probab.argmax(1)\n",
    "print(f\"Predicted class: {y_pred}\")"
   ]
  },
  {
   "cell_type": "code",
   "execution_count": null,
   "id": "e8dd30bc-b8cd-4732-b451-fffcead493a0",
   "metadata": {},
   "outputs": [],
   "source": []
  }
 ],
 "metadata": {
  "kernelspec": {
   "display_name": "Python 3 (ipykernel)",
   "language": "python",
   "name": "python3"
  },
  "language_info": {
   "codemirror_mode": {
    "name": "ipython",
    "version": 3
   },
   "file_extension": ".py",
   "mimetype": "text/x-python",
   "name": "python",
   "nbconvert_exporter": "python",
   "pygments_lexer": "ipython3",
   "version": "3.12.1"
  }
 },
 "nbformat": 4,
 "nbformat_minor": 5
}
