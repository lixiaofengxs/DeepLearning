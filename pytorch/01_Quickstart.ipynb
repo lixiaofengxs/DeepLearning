{
 "cells": [
  {
   "cell_type": "markdown",
   "id": "5a1a287f-24fb-4c03-9870-ab60d65fdba3",
   "metadata": {},
   "source": [
    "# quickstart\n",
    "介绍机器学习中常见的 api."
   ]
  },
  {
   "cell_type": "markdown",
   "id": "757574f2-a1ac-439f-8033-71b9bddb0a6c",
   "metadata": {},
   "source": [
    "## 1.处理数据\n",
    "pytorch 提供了 2 个包来处理数据：torch.utils.data.DataLoader 和 torch.utils.data.Dataset。\n",
    "Dataset 存储样本及相应的标签。 DataLoader 围绕 Dataset 包装了一个可迭代对象."
   ]
  },
  {
   "cell_type": "code",
   "execution_count": 2,
   "id": "eb3f7f20-8ca0-4892-bb99-42ddbde51788",
   "metadata": {},
   "outputs": [],
   "source": [
    "import torch\n",
    "from torch import nn\n",
    "from torch.utils.data import DataLoader\n",
    "from torchvision import datasets\n",
    "from torchvision.transforms import ToTensor\n",
    "\n",
    "# pytorch提供特定领域的库，例如 TorchText, TorchVision, TorchAudio,所有这些都包含数据集。"
   ]
  },
  {
   "cell_type": "code",
   "execution_count": 3,
   "id": "e59d7f1a-5bb8-4daf-afe6-5e4015aebd40",
   "metadata": {},
   "outputs": [],
   "source": [
    "# Download training data from open datasets.\n",
    "training_data = datasets.FashionMNIST(\n",
    "    root=\"data\",\n",
    "    train=True,\n",
    "    download=True,\n",
    "    transform=ToTensor(),\n",
    ")\n",
    "\n",
    "# Download test data from open datasets.\n",
    "test_data = datasets.FashionMNIST(\n",
    "    root=\"data\",\n",
    "    train=False,\n",
    "    download=True,\n",
    "    transform=ToTensor(),\n",
    ")"
   ]
  },
  {
   "cell_type": "code",
   "execution_count": 4,
   "id": "8008072d-ae57-47d6-9033-bee1a7dbe546",
   "metadata": {},
   "outputs": [
    {
     "name": "stdout",
     "output_type": "stream",
     "text": [
      "Shape of X [N, C, H, W]: torch.Size([64, 1, 28, 28])\n",
      "Shape of y: torch.Size([64]) torch.int64\n"
     ]
    }
   ],
   "source": [
    "# 将 Dataset 作为参数传递给 DataLoader 。在数据集上包装了一个可迭代对象，并支持自动批处理、采样、洗牌和多进程数据加载。\n",
    "# 定义批量大小为 64，即数据加载器迭代中的每个元素将返回一批 64 个特征和标签。\n",
    "\n",
    "batch_size = 64\n",
    "\n",
    "# Create data loaders.\n",
    "train_dataloader = DataLoader(training_data, batch_size=batch_size)\n",
    "test_dataloader = DataLoader(test_data, batch_size=batch_size)\n",
    "\n",
    "for X, y in test_dataloader:\n",
    "    print(f\"Shape of X [N, C, H, W]: {X.shape}\")\n",
    "    print(f\"Shape of y: {y.shape} {y.dtype}\")\n",
    "    break"
   ]
  },
  {
   "cell_type": "markdown",
   "id": "f7281310-76b3-43a7-b424-be76a85e0aa5",
   "metadata": {},
   "source": [
    "## 2.创建模型\n",
    "\n",
    "为了在 PyTorch 中定义神经网络，我们创建一个继承自nn.Module的类。我们在__init__函数中定义网络层，并在前forward函数中指定数据如何通过网络。为了加速神经网络中的操作，我们将其转移到 GPU 或 MPS（如果可用）。"
   ]
  },
  {
   "cell_type": "code",
   "execution_count": 5,
   "id": "b39c252b-9280-4579-a872-bf4b1fdb3bac",
   "metadata": {},
   "outputs": [
    {
     "name": "stdout",
     "output_type": "stream",
     "text": [
      "Using cpu device\n",
      "NeuralNetwork(\n",
      "  (flatten): Flatten(start_dim=1, end_dim=-1)\n",
      "  (linear_relu_stack): Sequential(\n",
      "    (0): Linear(in_features=784, out_features=512, bias=True)\n",
      "    (1): ReLU()\n",
      "    (2): Linear(in_features=512, out_features=512, bias=True)\n",
      "    (3): ReLU()\n",
      "    (4): Linear(in_features=512, out_features=10, bias=True)\n",
      "  )\n",
      ")\n"
     ]
    }
   ],
   "source": [
    "# Get cpu, gpu or mps device for training.\n",
    "device = (\n",
    "    \"cuda\"\n",
    "    if torch.cuda.is_available()\n",
    "    else \"mps\"\n",
    "    if torch.backends.mps.is_available()\n",
    "    else \"cpu\"\n",
    ")\n",
    "print(f\"Using {device} device\")\n",
    "\n",
    "# Define model\n",
    "class NeuralNetwork(nn.Module):\n",
    "    def __init__(self):\n",
    "        super().__init__()\n",
    "        self.flatten = nn.Flatten()\n",
    "        self.linear_relu_stack = nn.Sequential(\n",
    "            nn.Linear(28*28, 512),\n",
    "            nn.ReLU(),\n",
    "            nn.Linear(512, 512),\n",
    "            nn.ReLU(),\n",
    "            nn.Linear(512, 10)\n",
    "        )\n",
    "\n",
    "    def forward(self, x):\n",
    "        x = self.flatten(x)\n",
    "        logits = self.linear_relu_stack(x)\n",
    "        return logits\n",
    "\n",
    "model = NeuralNetwork().to(device)\n",
    "print(model)"
   ]
  },
  {
   "cell_type": "markdown",
   "id": "5652098b-68c8-4254-adcd-cb387b699d49",
   "metadata": {},
   "source": [
    "## 3.优化模型参数\n",
    "为了训练模型，需要一个损失函数和一个优化器。"
   ]
  },
  {
   "cell_type": "code",
   "execution_count": 6,
   "id": "9b5c4302-afd6-4fb9-94d7-7ea8e1d6bb15",
   "metadata": {},
   "outputs": [],
   "source": [
    "loss_fn = nn.CrossEntropyLoss()\n",
    "optimizer = torch.optim.SGD(model.parameters(), lr=1e-3)"
   ]
  },
  {
   "cell_type": "code",
   "execution_count": 7,
   "id": "c801e3be-9a62-49f7-bea7-f470b3c8b4c7",
   "metadata": {},
   "outputs": [],
   "source": [
    "# 在单个训练循环中，模型对训练数据集（批量输入）进行预测，并反向传播预测误差以调整模型的参数。\n",
    "def train(dataloader, model, loss_fn, optimizer):\n",
    "    size = len(dataloader.dataset)\n",
    "    model.train()\n",
    "    for batch, (X, y) in enumerate(dataloader):\n",
    "        X, y = X.to(device), y.to(device)\n",
    "\n",
    "        # Compute prediction error\n",
    "        pred = model(X)\n",
    "        loss = loss_fn(pred, y)\n",
    "\n",
    "        # Backpropagation\n",
    "        loss.backward()\n",
    "        optimizer.step()\n",
    "        optimizer.zero_grad()\n",
    "\n",
    "        if batch % 100 == 0:\n",
    "            loss, current = loss.item(), (batch + 1) * len(X)\n",
    "            print(f\"loss: {loss:>7f}  [{current:>5d}/{size:>5d}]\")"
   ]
  },
  {
   "cell_type": "code",
   "execution_count": 8,
   "id": "6b63362b-d25a-4d54-b026-1cb20a04f268",
   "metadata": {},
   "outputs": [],
   "source": [
    "# 还根据测试数据集检查模型的性能，以确保它正在学习。\n",
    "def test(dataloader, model, loss_fn):\n",
    "    size = len(dataloader.dataset)\n",
    "    num_batches = len(dataloader)\n",
    "    model.eval()\n",
    "    test_loss, correct = 0, 0\n",
    "    with torch.no_grad():\n",
    "        for X, y in dataloader:\n",
    "            X, y = X.to(device), y.to(device)\n",
    "            pred = model(X)\n",
    "            test_loss += loss_fn(pred, y).item()\n",
    "            correct += (pred.argmax(1) == y).type(torch.float).sum().item()\n",
    "    test_loss /= num_batches\n",
    "    correct /= size\n",
    "    print(f\"Test Error: \\n Accuracy: {(100*correct):>0.1f}%, Avg loss: {test_loss:>8f} \\n\")"
   ]
  },
  {
   "cell_type": "code",
   "execution_count": 9,
   "id": "6ce7fcca-ae7b-4ce6-afe9-979595ad4d2a",
   "metadata": {},
   "outputs": [
    {
     "name": "stdout",
     "output_type": "stream",
     "text": [
      "Epoch 1\n",
      "-------------------------------\n",
      "loss: 2.319704  [   64/60000]\n",
      "loss: 2.306265  [ 6464/60000]\n",
      "loss: 2.278023  [12864/60000]\n",
      "loss: 2.265060  [19264/60000]\n",
      "loss: 2.254718  [25664/60000]\n",
      "loss: 2.215823  [32064/60000]\n",
      "loss: 2.229813  [38464/60000]\n",
      "loss: 2.195731  [44864/60000]\n",
      "loss: 2.204788  [51264/60000]\n",
      "loss: 2.157255  [57664/60000]\n",
      "Test Error: \n",
      " Accuracy: 36.5%, Avg loss: 2.155229 \n",
      "\n",
      "Epoch 2\n",
      "-------------------------------\n",
      "loss: 2.170549  [   64/60000]\n",
      "loss: 2.154533  [ 6464/60000]\n",
      "loss: 2.095134  [12864/60000]\n",
      "loss: 2.115534  [19264/60000]\n",
      "loss: 2.056446  [25664/60000]\n",
      "loss: 1.990939  [32064/60000]\n",
      "loss: 2.024551  [38464/60000]\n",
      "loss: 1.944945  [44864/60000]\n",
      "loss: 1.962815  [51264/60000]\n",
      "loss: 1.877846  [57664/60000]\n",
      "Test Error: \n",
      " Accuracy: 55.9%, Avg loss: 1.875742 \n",
      "\n",
      "Epoch 3\n",
      "-------------------------------\n",
      "loss: 1.907342  [   64/60000]\n",
      "loss: 1.873744  [ 6464/60000]\n",
      "loss: 1.756337  [12864/60000]\n",
      "loss: 1.807940  [19264/60000]\n",
      "loss: 1.683396  [25664/60000]\n",
      "loss: 1.630596  [32064/60000]\n",
      "loss: 1.656534  [38464/60000]\n",
      "loss: 1.561379  [44864/60000]\n",
      "loss: 1.597415  [51264/60000]\n",
      "loss: 1.480518  [57664/60000]\n",
      "Test Error: \n",
      " Accuracy: 62.2%, Avg loss: 1.498915 \n",
      "\n",
      "Epoch 4\n",
      "-------------------------------\n",
      "loss: 1.562595  [   64/60000]\n",
      "loss: 1.529678  [ 6464/60000]\n",
      "loss: 1.378348  [12864/60000]\n",
      "loss: 1.458621  [19264/60000]\n",
      "loss: 1.328853  [25664/60000]\n",
      "loss: 1.322011  [32064/60000]\n",
      "loss: 1.336881  [38464/60000]\n",
      "loss: 1.270229  [44864/60000]\n",
      "loss: 1.312178  [51264/60000]\n",
      "loss: 1.204233  [57664/60000]\n",
      "Test Error: \n",
      " Accuracy: 63.9%, Avg loss: 1.230038 \n",
      "\n",
      "Epoch 5\n",
      "-------------------------------\n",
      "loss: 1.301792  [   64/60000]\n",
      "loss: 1.288278  [ 6464/60000]\n",
      "loss: 1.120280  [12864/60000]\n",
      "loss: 1.235381  [19264/60000]\n",
      "loss: 1.101568  [25664/60000]\n",
      "loss: 1.122844  [32064/60000]\n",
      "loss: 1.145597  [38464/60000]\n",
      "loss: 1.091407  [44864/60000]\n",
      "loss: 1.137501  [51264/60000]\n",
      "loss: 1.048188  [57664/60000]\n",
      "Test Error: \n",
      " Accuracy: 65.1%, Avg loss: 1.066797 \n",
      "\n",
      "Done!\n"
     ]
    }
   ],
   "source": [
    "# 训练过程需要经过多次迭代（ epochs ）。在每个时期，模型都会学习参数以做出更好的预测。\n",
    "# 打印每个时期模型的准确性和损失；我们希望看到每个 epoch 的准确性都会提高，损失会减少。\n",
    "epochs = 5\n",
    "for t in range(epochs):\n",
    "    print(f\"Epoch {t+1}\\n-------------------------------\")\n",
    "    train(train_dataloader, model, loss_fn, optimizer)\n",
    "    test(test_dataloader, model, loss_fn)\n",
    "print(\"Done!\")"
   ]
  },
  {
   "cell_type": "markdown",
   "id": "e4802288-4201-4cfe-854e-8becbf4b2568",
   "metadata": {},
   "source": [
    "## 4.保存模型\n",
    "保存模型的常见方法是序列化内部状态字典（包含模型参数）。"
   ]
  },
  {
   "cell_type": "code",
   "execution_count": 10,
   "id": "55904d62-71e8-4758-824b-839848f08596",
   "metadata": {},
   "outputs": [
    {
     "name": "stdout",
     "output_type": "stream",
     "text": [
      "Saved PyTorch Model State to model.pth\n"
     ]
    }
   ],
   "source": [
    "torch.save(model.state_dict(), \"model.pth\")\n",
    "print(\"Saved PyTorch Model State to model.pth\")"
   ]
  },
  {
   "cell_type": "markdown",
   "id": "57327f8c-c25c-4a52-bf64-40990e3a3d88",
   "metadata": {},
   "source": [
    "## 5.加载模型\n",
    "加载模型的过程包括重新创建模型结构并将状态字典加载到其中"
   ]
  },
  {
   "cell_type": "code",
   "execution_count": 11,
   "id": "040cce58-4d8d-471e-8ec9-a5f49f90fe93",
   "metadata": {},
   "outputs": [
    {
     "data": {
      "text/plain": [
       "<All keys matched successfully>"
      ]
     },
     "execution_count": 11,
     "metadata": {},
     "output_type": "execute_result"
    }
   ],
   "source": [
    "model = NeuralNetwork().to(device)\n",
    "model.load_state_dict(torch.load(\"model.pth\", weights_only=True))"
   ]
  },
  {
   "cell_type": "code",
   "execution_count": 13,
   "id": "ec6654e6-4031-42ae-8320-bcea26202905",
   "metadata": {},
   "outputs": [
    {
     "name": "stdout",
     "output_type": "stream",
     "text": [
      "Predicted: \"Ankle boot\", Actual: \"Ankle boot\"\n"
     ]
    }
   ],
   "source": [
    "# 使用加载的模型进行预测\n",
    "classes = [\n",
    "    \"T-shirt/top\",\n",
    "    \"Trouser\",\n",
    "    \"Pullover\",\n",
    "    \"Dress\",\n",
    "    \"Coat\",\n",
    "    \"Sandal\",\n",
    "    \"Shirt\",\n",
    "    \"Sneaker\",\n",
    "    \"Bag\",\n",
    "    \"Ankle boot\",\n",
    "]\n",
    "\n",
    "model.eval()\n",
    "x, y = test_data[0][0], test_data[0][1]\n",
    "with torch.no_grad():\n",
    "    x = x.to(device)\n",
    "    pred = model(x)\n",
    "    predicted, actual = classes[pred[0].argmax(0)], classes[y]\n",
    "    print(f'Predicted: \"{predicted}\", Actual: \"{actual}\"')"
   ]
  },
  {
   "cell_type": "code",
   "execution_count": null,
   "id": "d1cbf8a6-4bbc-462f-b4d0-d840c13e0ce0",
   "metadata": {},
   "outputs": [],
   "source": []
  }
 ],
 "metadata": {
  "kernelspec": {
   "display_name": "Python 3 (ipykernel)",
   "language": "python",
   "name": "python3"
  },
  "language_info": {
   "codemirror_mode": {
    "name": "ipython",
    "version": 3
   },
   "file_extension": ".py",
   "mimetype": "text/x-python",
   "name": "python",
   "nbconvert_exporter": "python",
   "pygments_lexer": "ipython3",
   "version": "3.12.1"
  }
 },
 "nbformat": 4,
 "nbformat_minor": 5
}
