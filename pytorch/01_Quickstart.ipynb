{
 "cells": [
  {
   "cell_type": "markdown",
   "id": "5a1a287f-24fb-4c03-9870-ab60d65fdba3",
   "metadata": {},
   "source": [
    "# quickstart\n",
    "介绍机器学习中常见的 api."
   ]
  },
  {
   "cell_type": "markdown",
   "id": "757574f2-a1ac-439f-8033-71b9bddb0a6c",
   "metadata": {},
   "source": [
    "## 1.处理数据\n",
    "pytorch 提供了 2 个包来处理数据：torch.utils.data.DataLoader 和 torch.utils.data.Dataset。\n",
    "Dataset 存储样本及相应的标签。 DataLoader 围绕 Dataset 包装了一个可迭代对象."
   ]
  },
  {
   "cell_type": "code",
   "execution_count": 1,
   "id": "eb3f7f20-8ca0-4892-bb99-42ddbde51788",
   "metadata": {},
   "outputs": [],
   "source": [
    "import torch\n",
    "from torch import nn\n",
    "from torch.utils.data import DataLoader\n",
    "from torchvision import datasets\n",
    "from torchvision.transforms import ToTensor\n",
    "\n",
    "# pytorch提供特定领域的库，例如 TorchText, TorchVision, TorchAudio,所有这些都包含数据集。"
   ]
  },
  {
   "cell_type": "code",
   "execution_count": 2,
   "id": "e59d7f1a-5bb8-4daf-afe6-5e4015aebd40",
   "metadata": {},
   "outputs": [
    {
     "name": "stdout",
     "output_type": "stream",
     "text": [
      "Downloading http://fashion-mnist.s3-website.eu-central-1.amazonaws.com/train-images-idx3-ubyte.gz\n",
      "Downloading http://fashion-mnist.s3-website.eu-central-1.amazonaws.com/train-images-idx3-ubyte.gz to data/FashionMNIST/raw/train-images-idx3-ubyte.gz\n"
     ]
    },
    {
     "name": "stderr",
     "output_type": "stream",
     "text": [
      "100%|██████████| 26421880/26421880 [00:16<00:00, 1586126.36it/s]\n"
     ]
    },
    {
     "name": "stdout",
     "output_type": "stream",
     "text": [
      "Extracting data/FashionMNIST/raw/train-images-idx3-ubyte.gz to data/FashionMNIST/raw\n",
      "\n",
      "Downloading http://fashion-mnist.s3-website.eu-central-1.amazonaws.com/train-labels-idx1-ubyte.gz\n",
      "Downloading http://fashion-mnist.s3-website.eu-central-1.amazonaws.com/train-labels-idx1-ubyte.gz to data/FashionMNIST/raw/train-labels-idx1-ubyte.gz\n"
     ]
    },
    {
     "name": "stderr",
     "output_type": "stream",
     "text": [
      "100%|██████████| 29515/29515 [00:00<00:00, 56356.63it/s]\n"
     ]
    },
    {
     "name": "stdout",
     "output_type": "stream",
     "text": [
      "Extracting data/FashionMNIST/raw/train-labels-idx1-ubyte.gz to data/FashionMNIST/raw\n",
      "\n",
      "Downloading http://fashion-mnist.s3-website.eu-central-1.amazonaws.com/t10k-images-idx3-ubyte.gz\n",
      "Downloading http://fashion-mnist.s3-website.eu-central-1.amazonaws.com/t10k-images-idx3-ubyte.gz to data/FashionMNIST/raw/t10k-images-idx3-ubyte.gz\n"
     ]
    },
    {
     "name": "stderr",
     "output_type": "stream",
     "text": [
      "100%|██████████| 4422102/4422102 [00:04<00:00, 1076710.50it/s]\n"
     ]
    },
    {
     "name": "stdout",
     "output_type": "stream",
     "text": [
      "Extracting data/FashionMNIST/raw/t10k-images-idx3-ubyte.gz to data/FashionMNIST/raw\n",
      "\n",
      "Downloading http://fashion-mnist.s3-website.eu-central-1.amazonaws.com/t10k-labels-idx1-ubyte.gz\n",
      "Downloading http://fashion-mnist.s3-website.eu-central-1.amazonaws.com/t10k-labels-idx1-ubyte.gz to data/FashionMNIST/raw/t10k-labels-idx1-ubyte.gz\n"
     ]
    },
    {
     "name": "stderr",
     "output_type": "stream",
     "text": [
      "100%|██████████| 5148/5148 [00:00<00:00, 9243269.26it/s]"
     ]
    },
    {
     "name": "stdout",
     "output_type": "stream",
     "text": [
      "Extracting data/FashionMNIST/raw/t10k-labels-idx1-ubyte.gz to data/FashionMNIST/raw\n",
      "\n"
     ]
    },
    {
     "name": "stderr",
     "output_type": "stream",
     "text": [
      "\n"
     ]
    }
   ],
   "source": [
    "# Download training data from open datasets.\n",
    "training_data = datasets.FashionMNIST(\n",
    "    root=\"data\",\n",
    "    train=True,\n",
    "    download=True,\n",
    "    transform=ToTensor(),\n",
    ")\n",
    "\n",
    "# Download test data from open datasets.\n",
    "test_data = datasets.FashionMNIST(\n",
    "    root=\"data\",\n",
    "    train=False,\n",
    "    download=True,\n",
    "    transform=ToTensor(),\n",
    ")"
   ]
  },
  {
   "cell_type": "code",
   "execution_count": 4,
   "id": "8008072d-ae57-47d6-9033-bee1a7dbe546",
   "metadata": {},
   "outputs": [
    {
     "name": "stdout",
     "output_type": "stream",
     "text": [
      "Shape of X [N, C, H, W]: torch.Size([64, 1, 28, 28])\n",
      "Shape of y: torch.Size([64]) torch.int64\n"
     ]
    }
   ],
   "source": [
    "# 将 Dataset 作为参数传递给 DataLoader 。在数据集上包装了一个可迭代对象，并支持自动批处理、采样、洗牌和多进程数据加载。\n",
    "# 定义批量大小为 64，即数据加载器迭代中的每个元素将返回一批 64 个特征和标签。\n",
    "\n",
    "batch_size = 64\n",
    "\n",
    "# Create data loaders.\n",
    "train_dataloader = DataLoader(training_data, batch_size=batch_size)\n",
    "test_dataloader = DataLoader(test_data, batch_size=batch_size)\n",
    "\n",
    "for X, y in test_dataloader:\n",
    "    print(f\"Shape of X [N, C, H, W]: {X.shape}\")\n",
    "    print(f\"Shape of y: {y.shape} {y.dtype}\")\n",
    "    break"
   ]
  },
  {
   "cell_type": "markdown",
   "id": "f7281310-76b3-43a7-b424-be76a85e0aa5",
   "metadata": {},
   "source": [
    "## 2.创建模型\n",
    "\n",
    "为了在 PyTorch 中定义神经网络，我们创建一个继承自nn.Module的类。我们在__init__函数中定义网络层，并在前forward函数中指定数据如何通过网络。为了加速神经网络中的操作，我们将其转移到 GPU 或 MPS（如果可用）。"
   ]
  },
  {
   "cell_type": "code",
   "execution_count": 5,
   "id": "b39c252b-9280-4579-a872-bf4b1fdb3bac",
   "metadata": {},
   "outputs": [
    {
     "name": "stdout",
     "output_type": "stream",
     "text": [
      "Using cpu device\n",
      "NeuralNetwork(\n",
      "  (flatten): Flatten(start_dim=1, end_dim=-1)\n",
      "  (linear_relu_stack): Sequential(\n",
      "    (0): Linear(in_features=784, out_features=512, bias=True)\n",
      "    (1): ReLU()\n",
      "    (2): Linear(in_features=512, out_features=512, bias=True)\n",
      "    (3): ReLU()\n",
      "    (4): Linear(in_features=512, out_features=10, bias=True)\n",
      "  )\n",
      ")\n"
     ]
    }
   ],
   "source": [
    "# Get cpu, gpu or mps device for training.\n",
    "device = (\n",
    "    \"cuda\"\n",
    "    if torch.cuda.is_available()\n",
    "    else \"mps\"\n",
    "    if torch.backends.mps.is_available()\n",
    "    else \"cpu\"\n",
    ")\n",
    "print(f\"Using {device} device\")\n",
    "\n",
    "# Define model\n",
    "class NeuralNetwork(nn.Module):\n",
    "    def __init__(self):\n",
    "        super().__init__()\n",
    "        self.flatten = nn.Flatten()\n",
    "        self.linear_relu_stack = nn.Sequential(\n",
    "            nn.Linear(28*28, 512),\n",
    "            nn.ReLU(),\n",
    "            nn.Linear(512, 512),\n",
    "            nn.ReLU(),\n",
    "            nn.Linear(512, 10)\n",
    "        )\n",
    "\n",
    "    def forward(self, x):\n",
    "        x = self.flatten(x)\n",
    "        logits = self.linear_relu_stack(x)\n",
    "        return logits\n",
    "\n",
    "model = NeuralNetwork().to(device)\n",
    "print(model)"
   ]
  },
  {
   "cell_type": "markdown",
   "id": "5652098b-68c8-4254-adcd-cb387b699d49",
   "metadata": {},
   "source": [
    "## 3.优化模型参数\n",
    "为了训练模型，需要一个损失函数和一个优化器。"
   ]
  },
  {
   "cell_type": "code",
   "execution_count": 6,
   "id": "9b5c4302-afd6-4fb9-94d7-7ea8e1d6bb15",
   "metadata": {},
   "outputs": [],
   "source": [
    "loss_fn = nn.CrossEntropyLoss()\n",
    "optimizer = torch.optim.SGD(model.parameters(), lr=1e-3)"
   ]
  },
  {
   "cell_type": "code",
   "execution_count": 7,
   "id": "c801e3be-9a62-49f7-bea7-f470b3c8b4c7",
   "metadata": {},
   "outputs": [],
   "source": [
    "# 在单个训练循环中，模型对训练数据集（批量输入）进行预测，并反向传播预测误差以调整模型的参数。\n",
    "def train(dataloader, model, loss_fn, optimizer):\n",
    "    size = len(dataloader.dataset)\n",
    "    model.train()\n",
    "    for batch, (X, y) in enumerate(dataloader):\n",
    "        X, y = X.to(device), y.to(device)\n",
    "\n",
    "        # Compute prediction error\n",
    "        pred = model(X)\n",
    "        loss = loss_fn(pred, y)\n",
    "\n",
    "        # Backpropagation\n",
    "        loss.backward()\n",
    "        optimizer.step()\n",
    "        optimizer.zero_grad()\n",
    "\n",
    "        if batch % 100 == 0:\n",
    "            loss, current = loss.item(), (batch + 1) * len(X)\n",
    "            print(f\"loss: {loss:>7f}  [{current:>5d}/{size:>5d}]\")"
   ]
  },
  {
   "cell_type": "code",
   "execution_count": 8,
   "id": "6b63362b-d25a-4d54-b026-1cb20a04f268",
   "metadata": {},
   "outputs": [],
   "source": [
    "# 还根据测试数据集检查模型的性能，以确保它正在学习。\n",
    "def test(dataloader, model, loss_fn):\n",
    "    size = len(dataloader.dataset)\n",
    "    num_batches = len(dataloader)\n",
    "    model.eval()\n",
    "    test_loss, correct = 0, 0\n",
    "    with torch.no_grad():\n",
    "        for X, y in dataloader:\n",
    "            X, y = X.to(device), y.to(device)\n",
    "            pred = model(X)\n",
    "            test_loss += loss_fn(pred, y).item()\n",
    "            correct += (pred.argmax(1) == y).type(torch.float).sum().item()\n",
    "    test_loss /= num_batches\n",
    "    correct /= size\n",
    "    print(f\"Test Error: \\n Accuracy: {(100*correct):>0.1f}%, Avg loss: {test_loss:>8f} \\n\")"
   ]
  },
  {
   "cell_type": "code",
   "execution_count": 9,
   "id": "6ce7fcca-ae7b-4ce6-afe9-979595ad4d2a",
   "metadata": {},
   "outputs": [
    {
     "name": "stdout",
     "output_type": "stream",
     "text": [
      "Epoch 1\n",
      "-------------------------------\n",
      "loss: 2.302227  [   64/60000]\n",
      "loss: 2.290541  [ 6464/60000]\n",
      "loss: 2.278565  [12864/60000]\n",
      "loss: 2.271907  [19264/60000]\n",
      "loss: 2.259622  [25664/60000]\n",
      "loss: 2.240156  [32064/60000]\n",
      "loss: 2.230141  [38464/60000]\n",
      "loss: 2.207586  [44864/60000]\n",
      "loss: 2.202543  [51264/60000]\n",
      "loss: 2.174413  [57664/60000]\n",
      "Test Error: \n",
      " Accuracy: 56.7%, Avg loss: 2.172049 \n",
      "\n",
      "Epoch 2\n",
      "-------------------------------\n",
      "loss: 2.174152  [   64/60000]\n",
      "loss: 2.166521  [ 6464/60000]\n",
      "loss: 2.116733  [12864/60000]\n",
      "loss: 2.127808  [19264/60000]\n",
      "loss: 2.088179  [25664/60000]\n",
      "loss: 2.039039  [32064/60000]\n",
      "loss: 2.047876  [38464/60000]\n",
      "loss: 1.980942  [44864/60000]\n",
      "loss: 1.980299  [51264/60000]\n",
      "loss: 1.912224  [57664/60000]\n",
      "Test Error: \n",
      " Accuracy: 58.8%, Avg loss: 1.914990 \n",
      "\n",
      "Epoch 3\n",
      "-------------------------------\n",
      "loss: 1.937685  [   64/60000]\n",
      "loss: 1.912939  [ 6464/60000]\n",
      "loss: 1.804067  [12864/60000]\n",
      "loss: 1.839959  [19264/60000]\n",
      "loss: 1.741695  [25664/60000]\n",
      "loss: 1.691307  [32064/60000]\n",
      "loss: 1.706576  [38464/60000]\n",
      "loss: 1.613444  [44864/60000]\n",
      "loss: 1.641151  [51264/60000]\n",
      "loss: 1.535878  [57664/60000]\n",
      "Test Error: \n",
      " Accuracy: 60.7%, Avg loss: 1.556503 \n",
      "\n",
      "Epoch 4\n",
      "-------------------------------\n",
      "loss: 1.612176  [   64/60000]\n",
      "loss: 1.584326  [ 6464/60000]\n",
      "loss: 1.441696  [12864/60000]\n",
      "loss: 1.510292  [19264/60000]\n",
      "loss: 1.398502  [25664/60000]\n",
      "loss: 1.387793  [32064/60000]\n",
      "loss: 1.399704  [38464/60000]\n",
      "loss: 1.326585  [44864/60000]\n",
      "loss: 1.367182  [51264/60000]\n",
      "loss: 1.264968  [57664/60000]\n",
      "Test Error: \n",
      " Accuracy: 62.6%, Avg loss: 1.290758 \n",
      "\n",
      "Epoch 5\n",
      "-------------------------------\n",
      "loss: 1.358072  [   64/60000]\n",
      "loss: 1.347088  [ 6464/60000]\n",
      "loss: 1.185356  [12864/60000]\n",
      "loss: 1.288930  [19264/60000]\n",
      "loss: 1.165210  [25664/60000]\n",
      "loss: 1.187937  [32064/60000]\n",
      "loss: 1.203677  [38464/60000]\n",
      "loss: 1.143601  [44864/60000]\n",
      "loss: 1.188984  [51264/60000]\n",
      "loss: 1.099403  [57664/60000]\n",
      "Test Error: \n",
      " Accuracy: 64.3%, Avg loss: 1.120381 \n",
      "\n",
      "Done!\n"
     ]
    }
   ],
   "source": [
    "# 训练过程需要经过多次迭代（ epochs ）。在每个时期，模型都会学习参数以做出更好的预测。\n",
    "# 打印每个时期模型的准确性和损失；我们希望看到每个 epoch 的准确性都会提高，损失会减少。\n",
    "epochs = 5\n",
    "for t in range(epochs):\n",
    "    print(f\"Epoch {t+1}\\n-------------------------------\")\n",
    "    train(train_dataloader, model, loss_fn, optimizer)\n",
    "    test(test_dataloader, model, loss_fn)\n",
    "print(\"Done!\")"
   ]
  },
  {
   "cell_type": "markdown",
   "id": "e4802288-4201-4cfe-854e-8becbf4b2568",
   "metadata": {},
   "source": [
    "## 4.保存模型\n",
    "保存模型的常见方法是序列化内部状态字典（包含模型参数）。"
   ]
  },
  {
   "cell_type": "code",
   "execution_count": 10,
   "id": "55904d62-71e8-4758-824b-839848f08596",
   "metadata": {},
   "outputs": [
    {
     "name": "stdout",
     "output_type": "stream",
     "text": [
      "Saved PyTorch Model State to model.pth\n"
     ]
    }
   ],
   "source": [
    "torch.save(model.state_dict(), \"model.pth\")\n",
    "print(\"Saved PyTorch Model State to model.pth\")"
   ]
  },
  {
   "cell_type": "markdown",
   "id": "57327f8c-c25c-4a52-bf64-40990e3a3d88",
   "metadata": {},
   "source": [
    "## 5.加载模型\n",
    "加载模型的过程包括重新创建模型结构并将状态字典加载到其中"
   ]
  },
  {
   "cell_type": "code",
   "execution_count": null,
   "id": "040cce58-4d8d-471e-8ec9-a5f49f90fe93",
   "metadata": {},
   "outputs": [],
   "source": []
  }
 ],
 "metadata": {
  "kernelspec": {
   "display_name": "Python 3 (ipykernel)",
   "language": "python",
   "name": "python3"
  },
  "language_info": {
   "codemirror_mode": {
    "name": "ipython",
    "version": 3
   },
   "file_extension": ".py",
   "mimetype": "text/x-python",
   "name": "python",
   "nbconvert_exporter": "python",
   "pygments_lexer": "ipython3",
   "version": "3.12.1"
  }
 },
 "nbformat": 4,
 "nbformat_minor": 5
}
